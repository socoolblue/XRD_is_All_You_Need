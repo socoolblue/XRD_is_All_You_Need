{
 "cells": [
  {
   "cell_type": "code",
   "execution_count": 1,
   "metadata": {},
   "outputs": [],
   "source": [
    "import glob\n",
    "import h5py\n",
    "import numpy as np\n",
    "import tensorflow as tf\n",
    "import random\n",
    "import tensorflow as tf\n",
    "from tensorflow import keras\n",
    "from tensorflow.keras import datasets, layers, models, metrics\n",
    "from keras.layers import Dense, Convolution2D, Flatten, Activation, MaxPooling2D, Dropout, Reshape, BatchNormalization\n",
    "from keras.layers.merge import concatenate \n",
    "from keras.layers.merge import add\n",
    "import matplotlib.pyplot as plt\n",
    "import numpy as np\n",
    "import os\n",
    "\n",
    "File_Path = \"Test_data_MP.h5\"\n",
    "weights_PATH = \"FCN+MLP_Ef.ckpt\"\n",
    "\n",
    "ICSD = h5py.File(File_Path, 'r')\n",
    "stack = ICSD['data'][:,:]\n",
    "\n",
    "x_data_1 = stack[:,:-107]/100\n",
    "x_data_2 = stack[:,-107:-7].reshape(-1,1,100)\n",
    "y_data = (stack[:,-3]).reshape(-1,1)"
   ]
  },
  {
   "cell_type": "code",
   "execution_count": 2,
   "metadata": {},
   "outputs": [
    {
     "name": "stdout",
     "output_type": "stream",
     "text": [
      "Model: \"model\"\n",
      "__________________________________________________________________________________________________\n",
      "Layer (type)                    Output Shape         Param #     Connected to                     \n",
      "==================================================================================================\n",
      "input_1 (InputLayer)            [(None, 8192, 1)]    0                                            \n",
      "__________________________________________________________________________________________________\n",
      "conv1d (Conv1D)                 (None, 8192, 16)     64          input_1[0][0]                    \n",
      "__________________________________________________________________________________________________\n",
      "max_pooling1d (MaxPooling1D)    (None, 4096, 16)     0           conv1d[0][0]                     \n",
      "__________________________________________________________________________________________________\n",
      "dropout (Dropout)               (None, 4096, 16)     0           max_pooling1d[0][0]              \n",
      "__________________________________________________________________________________________________\n",
      "conv1d_1 (Conv1D)               (None, 4096, 16)     784         dropout[0][0]                    \n",
      "__________________________________________________________________________________________________\n",
      "max_pooling1d_1 (MaxPooling1D)  (None, 2048, 16)     0           conv1d_1[0][0]                   \n",
      "__________________________________________________________________________________________________\n",
      "dropout_1 (Dropout)             (None, 2048, 16)     0           max_pooling1d_1[0][0]            \n",
      "__________________________________________________________________________________________________\n",
      "conv1d_2 (Conv1D)               (None, 2048, 32)     1568        dropout_1[0][0]                  \n",
      "__________________________________________________________________________________________________\n",
      "max_pooling1d_2 (MaxPooling1D)  (None, 1024, 32)     0           conv1d_2[0][0]                   \n",
      "__________________________________________________________________________________________________\n",
      "dropout_2 (Dropout)             (None, 1024, 32)     0           max_pooling1d_2[0][0]            \n",
      "__________________________________________________________________________________________________\n",
      "conv1d_3 (Conv1D)               (None, 1024, 32)     3104        dropout_2[0][0]                  \n",
      "__________________________________________________________________________________________________\n",
      "max_pooling1d_3 (MaxPooling1D)  (None, 512, 32)      0           conv1d_3[0][0]                   \n",
      "__________________________________________________________________________________________________\n",
      "dropout_3 (Dropout)             (None, 512, 32)      0           max_pooling1d_3[0][0]            \n",
      "__________________________________________________________________________________________________\n",
      "conv1d_4 (Conv1D)               (None, 512, 64)      6208        dropout_3[0][0]                  \n",
      "__________________________________________________________________________________________________\n",
      "max_pooling1d_4 (MaxPooling1D)  (None, 256, 64)      0           conv1d_4[0][0]                   \n",
      "__________________________________________________________________________________________________\n",
      "dropout_4 (Dropout)             (None, 256, 64)      0           max_pooling1d_4[0][0]            \n",
      "__________________________________________________________________________________________________\n",
      "conv1d_5 (Conv1D)               (None, 256, 64)      12352       dropout_4[0][0]                  \n",
      "__________________________________________________________________________________________________\n",
      "max_pooling1d_5 (MaxPooling1D)  (None, 128, 64)      0           conv1d_5[0][0]                   \n",
      "__________________________________________________________________________________________________\n",
      "dropout_5 (Dropout)             (None, 128, 64)      0           max_pooling1d_5[0][0]            \n",
      "__________________________________________________________________________________________________\n",
      "conv1d_6 (Conv1D)               (None, 128, 128)     24704       dropout_5[0][0]                  \n",
      "__________________________________________________________________________________________________\n",
      "max_pooling1d_6 (MaxPooling1D)  (None, 64, 128)      0           conv1d_6[0][0]                   \n",
      "__________________________________________________________________________________________________\n",
      "dropout_6 (Dropout)             (None, 64, 128)      0           max_pooling1d_6[0][0]            \n",
      "__________________________________________________________________________________________________\n",
      "conv1d_7 (Conv1D)               (None, 64, 128)      49280       dropout_6[0][0]                  \n",
      "__________________________________________________________________________________________________\n",
      "max_pooling1d_7 (MaxPooling1D)  (None, 32, 128)      0           conv1d_7[0][0]                   \n",
      "__________________________________________________________________________________________________\n",
      "dropout_7 (Dropout)             (None, 32, 128)      0           max_pooling1d_7[0][0]            \n",
      "__________________________________________________________________________________________________\n",
      "conv1d_8 (Conv1D)               (None, 32, 256)      98560       dropout_7[0][0]                  \n",
      "__________________________________________________________________________________________________\n",
      "max_pooling1d_8 (MaxPooling1D)  (None, 16, 256)      0           conv1d_8[0][0]                   \n",
      "__________________________________________________________________________________________________\n",
      "dropout_8 (Dropout)             (None, 16, 256)      0           max_pooling1d_8[0][0]            \n",
      "__________________________________________________________________________________________________\n",
      "conv1d_9 (Conv1D)               (None, 16, 256)      196864      dropout_8[0][0]                  \n",
      "__________________________________________________________________________________________________\n",
      "input_2 (InputLayer)            [(None, 1, 100)]     0                                            \n",
      "__________________________________________________________________________________________________\n",
      "max_pooling1d_9 (MaxPooling1D)  (None, 8, 256)       0           conv1d_9[0][0]                   \n",
      "__________________________________________________________________________________________________\n",
      "dense (Dense)                   (None, 1, 128)       12928       input_2[0][0]                    \n",
      "__________________________________________________________________________________________________\n",
      "dropout_9 (Dropout)             (None, 8, 256)       0           max_pooling1d_9[0][0]            \n",
      "__________________________________________________________________________________________________\n",
      "dropout_13 (Dropout)            (None, 1, 128)       0           dense[0][0]                      \n",
      "__________________________________________________________________________________________________\n",
      "conv1d_10 (Conv1D)              (None, 8, 512)       393728      dropout_9[0][0]                  \n",
      "__________________________________________________________________________________________________\n",
      "dense_1 (Dense)                 (None, 1, 256)       33024       dropout_13[0][0]                 \n",
      "__________________________________________________________________________________________________\n",
      "max_pooling1d_10 (MaxPooling1D) (None, 4, 512)       0           conv1d_10[0][0]                  \n",
      "__________________________________________________________________________________________________\n",
      "dropout_14 (Dropout)            (None, 1, 256)       0           dense_1[0][0]                    \n",
      "__________________________________________________________________________________________________\n",
      "dropout_10 (Dropout)            (None, 4, 512)       0           max_pooling1d_10[0][0]           \n",
      "__________________________________________________________________________________________________\n",
      "dense_2 (Dense)                 (None, 1, 256)       65792       dropout_14[0][0]                 \n",
      "__________________________________________________________________________________________________\n",
      "conv1d_11 (Conv1D)              (None, 4, 512)       786944      dropout_10[0][0]                 \n",
      "__________________________________________________________________________________________________\n",
      "dropout_15 (Dropout)            (None, 1, 256)       0           dense_2[0][0]                    \n",
      "__________________________________________________________________________________________________\n",
      "max_pooling1d_11 (MaxPooling1D) (None, 2, 512)       0           conv1d_11[0][0]                  \n",
      "__________________________________________________________________________________________________\n",
      "dense_3 (Dense)                 (None, 1, 128)       32896       dropout_15[0][0]                 \n",
      "__________________________________________________________________________________________________\n",
      "dropout_11 (Dropout)            (None, 2, 512)       0           max_pooling1d_11[0][0]           \n",
      "__________________________________________________________________________________________________\n",
      "dropout_16 (Dropout)            (None, 1, 128)       0           dense_3[0][0]                    \n",
      "__________________________________________________________________________________________________\n",
      "conv1d_12 (Conv1D)              (None, 2, 64)        98368       dropout_11[0][0]                 \n",
      "__________________________________________________________________________________________________\n",
      "dense_4 (Dense)                 (None, 1, 64)        8256        dropout_16[0][0]                 \n",
      "__________________________________________________________________________________________________\n",
      "max_pooling1d_12 (MaxPooling1D) (None, 1, 64)        0           conv1d_12[0][0]                  \n",
      "__________________________________________________________________________________________________\n",
      "dropout_17 (Dropout)            (None, 1, 64)        0           dense_4[0][0]                    \n",
      "__________________________________________________________________________________________________\n",
      "dropout_12 (Dropout)            (None, 1, 64)        0           max_pooling1d_12[0][0]           \n",
      "__________________________________________________________________________________________________\n",
      "dense_5 (Dense)                 (None, 1, 8)         520         dropout_17[0][0]                 \n",
      "__________________________________________________________________________________________________\n",
      "flatten (Flatten)               (None, 64)           0           dropout_12[0][0]                 \n",
      "__________________________________________________________________________________________________\n",
      "flatten_1 (Flatten)             (None, 8)            0           dense_5[0][0]                    \n",
      "__________________________________________________________________________________________________\n",
      "concatenate (Concatenate)       (None, 72)           0           flatten[0][0]                    \n",
      "                                                                 flatten_1[0][0]                  \n",
      "__________________________________________________________________________________________________\n",
      "dense_6 (Dense)                 (None, 16)           1168        concatenate[0][0]                \n",
      "__________________________________________________________________________________________________\n",
      "dropout_18 (Dropout)            (None, 16)           0           dense_6[0][0]                    \n",
      "__________________________________________________________________________________________________\n",
      "dense_7 (Dense)                 (None, 1)            17          dropout_18[0][0]                 \n",
      "==================================================================================================\n",
      "Total params: 1,827,129\n",
      "Trainable params: 1,827,129\n",
      "Non-trainable params: 0\n",
      "__________________________________________________________________________________________________\n"
     ]
    },
    {
     "data": {
      "text/plain": [
       "<tensorflow.python.training.tracking.util.CheckpointLoadStatus at 0x1b7123acb80>"
      ]
     },
     "execution_count": 2,
     "metadata": {},
     "output_type": "execute_result"
    }
   ],
   "source": [
    "drop_rate= 0.2\n",
    "drop_rate_2= 0.2\n",
    "initializer = tf.keras.initializers.GlorotUniform()\n",
    "\n",
    "inputs = keras.Input(shape=(8192, 1))\n",
    "\n",
    "c1=layers.Conv1D(filters=16, kernel_size=3, strides=1,padding='same', activation=tf.keras.layers.LeakyReLU(), \n",
    "                        kernel_initializer=initializer)(inputs)\n",
    "p1=layers.MaxPooling1D(pool_size=2, strides=2, padding='same')(c1)\n",
    "p1=layers.Dropout(rate=drop_rate)(p1)\n",
    "c2=layers.Conv1D(filters=16, kernel_size=3, strides=1,padding='same', activation=tf.keras.layers.LeakyReLU(), \n",
    "                        kernel_initializer=initializer)(p1)\n",
    "p2=layers.MaxPooling1D(pool_size=2, strides=2, padding='same')(c2)\n",
    "p2=layers.Dropout(rate=drop_rate)(p2)\n",
    "c3=layers.Conv1D(filters=32, kernel_size=3, strides=1,padding='same', activation=tf.keras.layers.LeakyReLU(), \n",
    "                        kernel_initializer=initializer)(p2)\n",
    "p3=layers.MaxPooling1D(pool_size=2, strides=2, padding='same')(c3)\n",
    "p3=layers.Dropout(rate=drop_rate)(p3)\n",
    "c4=layers.Conv1D(filters=32, kernel_size=3, strides=1,padding='same', activation=tf.keras.layers.LeakyReLU(), \n",
    "                        kernel_initializer=initializer)(p3)\n",
    "p4=layers.MaxPooling1D(pool_size=2, strides=2, padding='same')(c4)\n",
    "p4=layers.Dropout(rate=drop_rate)(p4)\n",
    "c5=layers.Conv1D(filters=64, kernel_size=3, strides=1,padding='same', activation=tf.keras.layers.LeakyReLU(), \n",
    "                        kernel_initializer=initializer)(p4)\n",
    "p5=layers.MaxPooling1D(pool_size=2, strides=2, padding='same')(c5)\n",
    "p5=layers.Dropout(rate=drop_rate)(p5)\n",
    "c6=layers.Conv1D(filters=64, kernel_size=3, strides=1,padding='same', activation=tf.keras.layers.LeakyReLU(), \n",
    "                        kernel_initializer=initializer)(p5)\n",
    "p6=layers.MaxPooling1D(pool_size=2, strides=2, padding='same')(c6)\n",
    "p6=layers.Dropout(rate=drop_rate)(p6)\n",
    "c7=layers.Conv1D(filters=128, kernel_size=3, strides=1,padding='same',activation=tf.keras.layers.LeakyReLU(), \n",
    "                         kernel_initializer=initializer)(p6)\n",
    "p7=layers.MaxPooling1D(pool_size=2, strides=2, padding='same')(c7)\n",
    "p7=layers.Dropout(rate=drop_rate)(p7)\n",
    "c8=layers.Conv1D(filters=128, kernel_size=3, strides=1,padding='same', activation=tf.keras.layers.LeakyReLU(), \n",
    "                        kernel_initializer=initializer)(p7)\n",
    "p8=layers.MaxPooling1D(pool_size=2, strides=2, padding='same')(c8)\n",
    "p8=layers.Dropout(rate=drop_rate)(p8)\n",
    "c9=layers.Conv1D(filters=256, kernel_size=3, strides=1,padding='same', activation=tf.keras.layers.LeakyReLU(), \n",
    "                        kernel_initializer=initializer)(p8)\n",
    "p9=layers.MaxPooling1D(pool_size=2, strides=2, padding='same')(c9)\n",
    "p9=layers.Dropout(rate=drop_rate)(p9)\n",
    "c10=layers.Conv1D(filters=256, kernel_size=3, strides=1,padding='same', activation=tf.keras.layers.LeakyReLU(), \n",
    "                        kernel_initializer=initializer)(p9)\n",
    "p10=layers.MaxPooling1D(pool_size=2, strides=2, padding='same')(c10)\n",
    "p10=layers.Dropout(rate=drop_rate)(p10)\n",
    "c11=layers.Conv1D(filters=512, kernel_size=3, strides=1,padding='same',activation=tf.keras.layers.LeakyReLU(), \n",
    "                         kernel_initializer=initializer)(p10)\n",
    "p11=layers.MaxPooling1D(pool_size=2, strides=2, padding='same')(c11)\n",
    "p11=layers.Dropout(rate=drop_rate)(p11)\n",
    "c12=layers.Conv1D(filters=512, kernel_size=3, strides=1,padding='same',activation=tf.keras.layers.LeakyReLU(), \n",
    "                         kernel_initializer=initializer)(p11)\n",
    "p12=layers.MaxPooling1D(pool_size=2, strides=2, padding='same')(c12)\n",
    "p12=layers.Dropout(rate=drop_rate_2)(p12)\n",
    "c13=layers.Conv1D(filters=64, kernel_size=3, strides=1,padding='same', kernel_initializer=initializer)(p12)\n",
    "p13=layers.MaxPooling1D(pool_size=2, strides=2, padding='same')(c13)\n",
    "p13=layers.Dropout(rate=drop_rate_2)(p13)\n",
    "f1= layers.Flatten()(p13)\n",
    "\n",
    "\n",
    "inputs_2 = keras.Input(shape=(1, 100))\n",
    "\n",
    "d1_2 = layers.Dense(128, kernel_initializer=initializer, activation='relu')(inputs_2)\n",
    "d1_2 = layers.Dropout(rate=drop_rate)(d1_2)\n",
    "d2_2 = layers.Dense(256, kernel_initializer=initializer, activation='relu')(d1_2)\n",
    "d2_2 = layers.Dropout(rate=drop_rate)(d2_2)\n",
    "d3_2 = layers.Dense(256, kernel_initializer=initializer, activation='relu')(d2_2)\n",
    "d3_2 = layers.Dropout(rate=drop_rate)(d3_2)\n",
    "d4_2 = layers.Dense(128, kernel_initializer=initializer, activation='relu')(d3_2)\n",
    "d4_2 = layers.Dropout(rate=drop_rate)(d4_2)\n",
    "d5_2 = layers.Dense(64, kernel_initializer=initializer, activation='relu')(d4_2)\n",
    "d5_2 = layers.Dropout(rate=drop_rate)(d5_2)\n",
    "d6_2 = layers.Dense(8, kernel_initializer=initializer, activation='relu')(d5_2)\n",
    "f2= layers.Flatten()(d6_2)\n",
    "\n",
    "\n",
    "concatenated = concatenate([f1, f2])\n",
    "dense_all_1 = layers.Dense(16, kernel_initializer=initializer, activation='relu')(concatenated)\n",
    "dense_all_1 = layers.Dropout(rate=drop_rate)(dense_all_1)\n",
    "outputs = layers.Dense(1, kernel_initializer=initializer)(dense_all_1)\n",
    "model = tf.keras.Model(inputs=[inputs, inputs_2], outputs=[outputs])\n",
    "\n",
    "model.summary()\n",
    "opt = tf.keras.optimizers.Adam(learning_rate=0.0002)\n",
    "model.compile(optimizer=opt,  loss='mae', metrics = ['mae', 'mse'])\n",
    "model.load_weights(\"FCN+MLP_Eg.ckpt\")"
   ]
  },
  {
   "cell_type": "code",
   "execution_count": 3,
   "metadata": {},
   "outputs": [
    {
     "name": "stdout",
     "output_type": "stream",
     "text": [
      "4/4 [==============================] - 1s 22ms/step - loss: 0.3112 - mae: 0.3112 - mse: 0.3290\n"
     ]
    },
    {
     "data": {
      "text/plain": [
       "[0.31120553612709045, 0.31120553612709045, 0.3290376663208008]"
      ]
     },
     "execution_count": 3,
     "metadata": {},
     "output_type": "execute_result"
    }
   ],
   "source": [
    "model.evaluate([x_data_1,x_data_2], y_data)"
   ]
  },
  {
   "cell_type": "code",
   "execution_count": 4,
   "metadata": {
    "scrolled": true
   },
   "outputs": [
    {
     "data": {
      "image/png": "[encoded data removed]",
      "text/plain": [
       "<Figure size 288x288 with 1 Axes>"
      ]
     },
     "metadata": {
      "needs_background": "light"
     },
     "output_type": "display_data"
    }
   ],
   "source": [
    "pred_y = model.predict([x_data_1,x_data_2])\n",
    "\n",
    "plt.figure(figsize=(4, 4))\n",
    "plt.scatter(y_data, pred_y, s=24)\n",
    "\n",
    "plt.plot([0, 6], [0, 6])\n",
    "\n",
    "plt.xlim(0, 6) \n",
    "plt.ylim(0, 6)\n",
    "plt.show()"
   ]
  },
  {
   "cell_type": "code",
   "execution_count": null,
   "metadata": {},
   "outputs": [],
   "source": []
  }
 ],
 "metadata": {
  "kernelspec": {
   "display_name": "Python 3",
   "language": "python",
   "name": "python3"
  },
  "language_info": {
   "codemirror_mode": {
    "name": "ipython",
    "version": 3
   },
   "file_extension": ".py",
   "mimetype": "text/x-python",
   "name": "python",
   "nbconvert_exporter": "python",
   "pygments_lexer": "ipython3",
   "version": "3.8.8"
  },
  "latex_envs": {
   "LaTeX_envs_menu_present": true,
   "autoclose": false,
   "autocomplete": true,
   "bibliofile": "biblio.bib",
   "cite_by": "apalike",
   "current_citInitial": 1,
   "eqLabelWithNumbers": true,
   "eqNumInitial": 1,
   "hotkeys": {
    "equation": "Ctrl-E",
    "itemize": "Ctrl-I"
   },
   "labels_anchors": false,
   "latex_user_defs": false,
   "report_style_numbering": false,
   "user_envs_cfg": false
  },
  "varInspector": {
   "cols": {
    "lenName": 16,
    "lenType": 16,
    "lenVar": 40
   },
   "kernels_config": {
    "python": {
     "delete_cmd_postfix": "",
     "delete_cmd_prefix": "del ",
     "library": "var_list.py",
     "varRefreshCmd": "print(var_dic_list())"
    },
    "r": {
     "delete_cmd_postfix": ") ",
     "delete_cmd_prefix": "rm(",
     "library": "var_list.r",
     "varRefreshCmd": "cat(var_dic_list()) "
    }
   },
   "types_to_exclude": [
    "module",
    "function",
    "builtin_function_or_method",
    "instance",
    "_Feature"
   ],
   "window_display": false
  }
 },
 "nbformat": 4,
 "nbformat_minor": 4
}
